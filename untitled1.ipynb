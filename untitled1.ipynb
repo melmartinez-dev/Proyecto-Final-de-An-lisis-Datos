{
  "nbformat": 4,
  "nbformat_minor": 0,
  "metadata": {
    "colab": {
      "provenance": [],
      "authorship_tag": "ABX9TyPxc3Vk6FTz/oOP+dd2dQqp",
      "include_colab_link": true
    },
    "kernelspec": {
      "name": "python3",
      "display_name": "Python 3"
    },
    "language_info": {
      "name": "python"
    }
  },
  "cells": [
    {
      "cell_type": "markdown",
      "metadata": {
        "id": "view-in-github",
        "colab_type": "text"
      },
      "source": [
        "<a href=\"https://colab.research.google.com/github/roxyconstantine-dev/Proyecto-Final-de-An-lisis-Datos/blob/main/untitled1.ipynb\" target=\"_parent\"><img src=\"https://colab.research.google.com/assets/colab-badge.svg\" alt=\"Open In Colab\"/></a>"
      ]
    },
    {
      "cell_type": "markdown",
      "source": [
        "Proyecto final de Posgrado de Analisis de Datos con Python\n",
        "\n",
        "En el siguente proyecto se realiza en analisis de datos concretos de muestras de laboratorio de la industria minera realizados por el CIMPPIN."
      ],
      "metadata": {
        "id": "xKPRp2cXwPOo"
      }
    }
  ]
}